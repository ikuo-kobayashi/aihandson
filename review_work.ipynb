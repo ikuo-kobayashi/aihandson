{
 "cells": [
  {
   "cell_type": "markdown",
   "metadata": {
    "tags": []
   },
   "source": [
    "# 初学者向けPandas100本ノックver1.0.6\n",
    "##### Shift + Enter で各セルのコードが実行されます\n",
    "・print(ans[ 問題番号 ]) で回答コード例を表示  \n",
    "・Python3エンジニア認定データ分析試験にも沿った問題内容   \n",
    "・Pandasの各メソッドの説明は以下のサイトが分かりやすいです  \n",
    " 　[note.nknk.me](https://note.nkmk.me/pandas/)  \n",
    "・\"Data for Titanic passengers\" from [VANDERBILT UNIVERSITY](https://biostat.app.vumc.org/wiki/Main/DataSets)  \n",
    "  \n",
    "作成日:2020年9月24日  \n",
    "最終更新日:2021年9月26日  \n",
    "再配布・改編不可  \n",
    "作成者：[kunishou](https://qiita.com/kunishou)"
   ]
  },
  {
   "cell_type": "code",
   "execution_count": 1,
   "metadata": {},
   "outputs": [
    {
     "name": "stdout",
     "output_type": "stream",
     "text": [
      "[answer0]\n",
      "\n",
      "このように回答コード例がここに表示されます。\n",
      "各問題の回答コード例を表示するときはprintの前の\n",
      "#を消して実行して下さい。\n",
      "\n",
      "コード例をセル内にコピー&ペーストし\n",
      "実行すると、正解のデータが表示されます\n"
     ]
    }
   ],
   "source": [
    "# Shift + Enterで題材データ、回答コードを読み込んで下さい\n",
    "\n",
    "import pandas as pd\n",
    "import glob\n",
    "\n",
    "#題材データをdfに読み込み(タイタニック号の乗客データ、テストの点数データ 等)\n",
    "def initialize1():\n",
    "    df = pd.read_csv('../input/titanic3.csv')\n",
    "    return df\n",
    "\n",
    "def initialize2():\n",
    "    df = pd.read_csv('../input/data1.csv')\n",
    "    return df\n",
    "\n",
    "df = initialize1()\n",
    "df2 = initialize2()\n",
    "df3 = pd.read_csv('../input/data1_2.csv')\n",
    "df4 = pd.read_csv('../input/data1_3.csv')\n",
    "df5 = pd.read_csv('../input/data2.csv',encoding='cp932')\n",
    "\n",
    "#回答コードをansリストに格納\n",
    "path = sorted(glob.glob('../input/a_' + '*.txt'))\n",
    "\n",
    "ans = []\n",
    "\n",
    "for _ in range(len(path)):\n",
    "    with open(path[_], 'r',encoding='utf-8') as f:\n",
    "        ans.append(f.read())\n",
    "        \n",
    "print(ans[0])"
   ]
  },
  {
   "cell_type": "markdown",
   "metadata": {},
   "source": [
    "# 【振り返り】個人的に重要だと思うノック【小林オリジナル】"
   ]
  },
  {
   "cell_type": "code",
   "execution_count": 8,
   "metadata": {},
   "outputs": [],
   "source": [
    "# １．csvファイルの読み込み＆冒頭部分の確認【4】【1】\n",
    "# （読み込みたいCSVファイルは \"../input/titanic3.csv\" ）\n",
    "\n",
    "# csvファイルを読み込み「df」に代入\n",
    "\n",
    "# 冒頭部分の確認\n"
   ]
  },
  {
   "cell_type": "code",
   "execution_count": 9,
   "metadata": {},
   "outputs": [],
   "source": [
    "# ２．指定した（範囲の）行、列の抽出【21】【22】\n",
    "\n",
    "# dfから「name」と「age」と「fare」の列だけを抽出し「df2_1」に代入\n",
    "\n",
    "# dfのインデックス番号「100～150」まで かつ　列名「name」～「cabin」までを抽出し「df2_2」に代入\n"
   ]
  },
  {
   "cell_type": "code",
   "execution_count": 4,
   "metadata": {},
   "outputs": [],
   "source": [
    "# ３．csvファイルへの出力【24】\n",
    "\n",
    "# df2_2を \"../output/review_3.csv\" に保存する。ただしインデックス番号は出力しないこと。\n"
   ]
  },
  {
   "cell_type": "code",
   "execution_count": 5,
   "metadata": {},
   "outputs": [],
   "source": [
    "# ４．条件に合致した行の抽出【27】【29】\n",
    "\n",
    "# dfから「age」が「20以上50以下」かつ「home.dest」に「New York」が含まれる行のみを抽出し「df4_1」に代入\n",
    "\n",
    "# dfから「name」,「age」「cabin」までの列を抽出し「df4_2」に代入\n"
   ]
  },
  {
   "cell_type": "code",
   "execution_count": 6,
   "metadata": {},
   "outputs": [],
   "source": [
    "# ５．条件に合致した箇所の値の書き換え【34】\n",
    "\n",
    "# dfをdf5にコピーする\n",
    "df5 = df.copy()\n",
    "\n",
    "# df5に対して「sex」が「female」かつ「age」が「20未満」の人については、「fare」を0にして「fare」に上書きする\n"
   ]
  },
  {
   "cell_type": "code",
   "execution_count": 7,
   "metadata": {},
   "outputs": [],
   "source": [
    "# ６．特定の列に対する一律な四則演算【36】\n",
    "\n",
    "# dfをdf6にコピーする\n",
    "df6 = df.copy()\n",
    "\n",
    "# df6に対して「fare」を1.1倍して「fare」に上書きする\n"
   ]
  },
  {
   "cell_type": "code",
   "execution_count": 8,
   "metadata": {},
   "outputs": [],
   "source": [
    "# ７．複数列にわたる文字列の結合と新規列への代入【40】\n",
    "\n",
    "# dfをdf7にコピーする\n",
    "df7 = df.copy()\n",
    "\n",
    "# df7に対して、「sex」と「age」を間に「_」を挟んで文字列として結合して、「sex-age」という新しい列に代入する\n"
   ]
  },
  {
   "cell_type": "code",
   "execution_count": 9,
   "metadata": {},
   "outputs": [],
   "source": [
    "# ８．列名の変更【44】\n",
    "\n",
    "# dfをdf8にコピーする\n",
    "df8 = df.copy()\n",
    "\n",
    "# 列名「pclass」を「rank」に、「home.dest」を「OD」に変更する\n"
   ]
  },
  {
   "cell_type": "code",
   "execution_count": 11,
   "metadata": {},
   "outputs": [],
   "source": [
    "# ９．欠損値の補間【47】\n",
    "\n",
    "# dfをdf9にコピーする\n",
    "df9 = df.copy()\n",
    "\n",
    "# df9の「age」、「body」をそれぞれの平均値で補間する\n",
    "\n",
    "\n",
    "# まとめて実施する場合\n",
    "# df9[['age','body']] = df9[['age','body']].fillna(df9[['age','body']].mean())\n"
   ]
  },
  {
   "cell_type": "code",
   "execution_count": 12,
   "metadata": {},
   "outputs": [],
   "source": [
    "# １０．文字列の置換【56】\n",
    "\n",
    "# dfをdf10にコピーする\n",
    "df10 = df.copy()\n",
    "\n",
    "# df10の「name」列について「Miss」または「Mrs」を「Ms」に置換する\n",
    "\n",
    "\n",
    "# まとめて実施する場合\n",
    "# df10['name'] = df10['name'].replace(['Miss','Mrs'],'Ms',regex=True)\n"
   ]
  },
  {
   "cell_type": "code",
   "execution_count": 13,
   "metadata": {},
   "outputs": [],
   "source": [
    "# １１．データフレームの結合【59】【65】\n",
    "\n",
    "# ふたつのデータフレームを読み込み\n",
    "df11_1 = pd.read_csv('../input/data1.csv')\n",
    "df11_2 = pd.read_csv('../input/data1_2.csv')\n",
    "\n",
    "# df11_1とdf11_2をnameで左結合してdf11_3に代入\n",
    "\n",
    "\n",
    "# df11_1とdf11_2を行方向に単純結合してdf11_4に代入\n"
   ]
  },
  {
   "cell_type": "code",
   "execution_count": 14,
   "metadata": {},
   "outputs": [],
   "source": [
    "# １２．統計値の算出【66】【68】【71】\n",
    "\n",
    "# データフレームを読み込み\n",
    "df12_1 = pd.read_csv('../input/data1.csv')\n",
    "\n",
    "# df12_1の「English」「Mathematics」「History」のそれぞれの平均値を算出してdf12_2に代入\n",
    "\n",
    "# df12_1の「class」でグルーピングして、グループごとの「English」「Mathematics」「History」のそれぞれの平均値を算出してdf12_3に代入\n",
    "\n",
    "# df12_1の各種統計値を一括算出してdf12_4に代入\n"
   ]
  },
  {
   "cell_type": "code",
   "execution_count": 15,
   "metadata": {},
   "outputs": [],
   "source": [
    "# １３．グラフの作成【85】【88】\n",
    "\n",
    "# データフレームを読み込み\n",
    "df13_1 = pd.read_csv('../input/data1.csv')\n",
    "\n",
    "# 横軸「name」縦軸に「English」「Mathematics」「History」の棒グラフを描画\n"
   ]
  },
  {
   "cell_type": "code",
   "execution_count": 16,
   "metadata": {},
   "outputs": [],
   "source": [
    "# 横軸「English」縦軸に「Mathematics」の散布図を描画\n"
   ]
  },
  {
   "cell_type": "code",
   "execution_count": null,
   "metadata": {},
   "outputs": [],
   "source": []
  }
 ],
 "metadata": {
  "kernelspec": {
   "display_name": "aihandson",
   "language": "python",
   "name": "aihandson"
  },
  "language_info": {
   "codemirror_mode": {
    "name": "ipython",
    "version": 3
   },
   "file_extension": ".py",
   "mimetype": "text/x-python",
   "name": "python",
   "nbconvert_exporter": "python",
   "pygments_lexer": "ipython3",
   "version": "3.8.13"
  }
 },
 "nbformat": 4,
 "nbformat_minor": 4
}
